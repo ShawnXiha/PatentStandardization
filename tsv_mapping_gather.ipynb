{
 "cells": [
  {
   "cell_type": "markdown",
   "id": "67b59138",
   "metadata": {},
   "source": [
    "# 将tsv中的mapping结合起来"
   ]
  },
  {
   "cell_type": "code",
   "execution_count": 2,
   "id": "64990b06",
   "metadata": {},
   "outputs": [],
   "source": [
    "app_tsv = \"data/app_body_mapping.tsv\"\n",
    "bibli_tsv =  \"data/bibli_mapping.tsv\""
   ]
  },
  {
   "cell_type": "code",
   "execution_count": 4,
   "id": "d6cd025d",
   "metadata": {},
   "outputs": [
    {
     "name": "stdout",
     "output_type": "stream",
     "text": [
      "==> data/app_body_mapping.tsv <==\r\n",
      "application-body/@lang\tpat:ApplicationBody/@com:languageCode\r\n",
      "application-body/@file\tpat:ApplicationBody/@com:documentFileName\r\n",
      "application-body/@file-reference-id\tpat:ApplicationBody/@com:fileReferenceIdentifier\r\n",
      "application-body/@country\tpat:ApplicationBody/@com:receivingOffice\r\n",
      "application-body/@status\tpat:ApplicationBody/@pat:applicationBodyStatus\r\n",
      "application-body/doc-page\tpat:ApplicationBody/pat:DocumentURI\r\n",
      "application-body/description\tpat:ApplicationBody/pat:Description\r\n",
      "application-body/description/@id\tpat:ApplicationBody/pat:Description/@com:id\r\n",
      "application-body/description/@lang\tpat:ApplicationBody/pat:Description/@com:languageCode\r\n",
      "application-body/description/doc-page\tpat:ApplicationBody/pat:Description/pat:DocumentURI\r\n",
      "\r\n",
      "==> data/bibli_mapping.tsv <==\r\n",
      "bibliographic-data/@id\tpat:BibliographicData/@com:id\r\n",
      "bibliographic-data/@country\tpat:BibliographicData/@com:officeCode\r\n",
      "bibliographic-data/plain-language-designation\tpat:BibliographicData/pat:PlainLanguageDesignationText\r\n",
      "bibliographic-data/plain-language-designation/@lang\tpat:BibliographicData/pat:PlainLanguageDesignationText/@com:languageCode\r\n",
      "bibliographic-data/publication-reference\tpat:BibliographicData/pat:PatentPublicationIdentification\r\n",
      "bibliographic-data/classification-ipc\tpat:BibliographicData/pat:PatentClassificationBag/pat:IPCClassification\r\n",
      "bibliographic-data/classifications-ipcr\tpat:BibliographicData/pat:PatentClassificationBag/pat:IPCRClassificationBag\r\n",
      "bibliographic-data/classifications-ipcr/classification-ipcr\tpat:BibliographicData/pat:PatentClassificationBag/pat:IPCRClassificationBag/pat:IPCRClassification\r\n",
      "bibliographic-data/classification-national\tpat:BibliographicData/pat:PatentClassificationBag/pat:NationalClassification\r\n",
      "bibliographic-data/classification-locarno\tpat:BibliographicData/pat:PatentClassificationBag/com:LocarnoClassificationBag\r\n"
     ]
    }
   ],
   "source": [
    "!head  data/*_mapping.tsv"
   ]
  },
  {
   "cell_type": "code",
   "execution_count": 5,
   "id": "9f7828d3",
   "metadata": {},
   "outputs": [],
   "source": [
    "import pandas as pd"
   ]
  },
  {
   "cell_type": "code",
   "execution_count": 6,
   "id": "b32265e8",
   "metadata": {},
   "outputs": [],
   "source": [
    "app_df = pd.read_csv(app_tsv, sep=\"\\t\", header=None, names=['xpath_from', \"xpath_to\"])"
   ]
  },
  {
   "cell_type": "code",
   "execution_count": 7,
   "id": "6d787791",
   "metadata": {},
   "outputs": [
    {
     "data": {
      "text/html": [
       "<div>\n",
       "<style scoped>\n",
       "    .dataframe tbody tr th:only-of-type {\n",
       "        vertical-align: middle;\n",
       "    }\n",
       "\n",
       "    .dataframe tbody tr th {\n",
       "        vertical-align: top;\n",
       "    }\n",
       "\n",
       "    .dataframe thead th {\n",
       "        text-align: right;\n",
       "    }\n",
       "</style>\n",
       "<table border=\"1\" class=\"dataframe\">\n",
       "  <thead>\n",
       "    <tr style=\"text-align: right;\">\n",
       "      <th></th>\n",
       "      <th>xpath_from</th>\n",
       "      <th>xpath_to</th>\n",
       "    </tr>\n",
       "  </thead>\n",
       "  <tbody>\n",
       "    <tr>\n",
       "      <th>0</th>\n",
       "      <td>application-body/@lang</td>\n",
       "      <td>pat:ApplicationBody/@com:languageCode</td>\n",
       "    </tr>\n",
       "    <tr>\n",
       "      <th>1</th>\n",
       "      <td>application-body/@file</td>\n",
       "      <td>pat:ApplicationBody/@com:documentFileName</td>\n",
       "    </tr>\n",
       "    <tr>\n",
       "      <th>2</th>\n",
       "      <td>application-body/@file-reference-id</td>\n",
       "      <td>pat:ApplicationBody/@com:fileReferenceIdentifier</td>\n",
       "    </tr>\n",
       "    <tr>\n",
       "      <th>3</th>\n",
       "      <td>application-body/@country</td>\n",
       "      <td>pat:ApplicationBody/@com:receivingOffice</td>\n",
       "    </tr>\n",
       "    <tr>\n",
       "      <th>4</th>\n",
       "      <td>application-body/@status</td>\n",
       "      <td>pat:ApplicationBody/@pat:applicationBodyStatus</td>\n",
       "    </tr>\n",
       "  </tbody>\n",
       "</table>\n",
       "</div>"
      ],
      "text/plain": [
       "                            xpath_from  \\\n",
       "0               application-body/@lang   \n",
       "1               application-body/@file   \n",
       "2  application-body/@file-reference-id   \n",
       "3            application-body/@country   \n",
       "4             application-body/@status   \n",
       "\n",
       "                                           xpath_to  \n",
       "0             pat:ApplicationBody/@com:languageCode  \n",
       "1         pat:ApplicationBody/@com:documentFileName  \n",
       "2  pat:ApplicationBody/@com:fileReferenceIdentifier  \n",
       "3          pat:ApplicationBody/@com:receivingOffice  \n",
       "4    pat:ApplicationBody/@pat:applicationBodyStatus  "
      ]
     },
     "execution_count": 7,
     "metadata": {},
     "output_type": "execute_result"
    }
   ],
   "source": [
    "app_df.head()"
   ]
  },
  {
   "cell_type": "code",
   "execution_count": 8,
   "id": "b73004cc",
   "metadata": {},
   "outputs": [],
   "source": [
    "app_df['xpath_to'] = app_df['xpath_to'].str.replace(\"pat:ApplicationBody\", \"pat:PatentPublication\")"
   ]
  },
  {
   "cell_type": "code",
   "execution_count": 10,
   "id": "38ba9ed0",
   "metadata": {},
   "outputs": [],
   "source": [
    "app_df['xpath_from'] = app_df['xpath_from'].str.replace(\"application-body\", \"patent-document\")"
   ]
  },
  {
   "cell_type": "code",
   "execution_count": 11,
   "id": "b06611b4",
   "metadata": {},
   "outputs": [
    {
     "data": {
      "text/html": [
       "<div>\n",
       "<style scoped>\n",
       "    .dataframe tbody tr th:only-of-type {\n",
       "        vertical-align: middle;\n",
       "    }\n",
       "\n",
       "    .dataframe tbody tr th {\n",
       "        vertical-align: top;\n",
       "    }\n",
       "\n",
       "    .dataframe thead th {\n",
       "        text-align: right;\n",
       "    }\n",
       "</style>\n",
       "<table border=\"1\" class=\"dataframe\">\n",
       "  <thead>\n",
       "    <tr style=\"text-align: right;\">\n",
       "      <th></th>\n",
       "      <th>xpath_from</th>\n",
       "      <th>xpath_to</th>\n",
       "    </tr>\n",
       "  </thead>\n",
       "  <tbody>\n",
       "    <tr>\n",
       "      <th>0</th>\n",
       "      <td>patent-document/@lang</td>\n",
       "      <td>pat:PatentPublication/@com:languageCode</td>\n",
       "    </tr>\n",
       "    <tr>\n",
       "      <th>1</th>\n",
       "      <td>patent-document/@file</td>\n",
       "      <td>pat:PatentPublication/@com:documentFileName</td>\n",
       "    </tr>\n",
       "    <tr>\n",
       "      <th>2</th>\n",
       "      <td>patent-document/@file-reference-id</td>\n",
       "      <td>pat:PatentPublication/@com:fileReferenceIdenti...</td>\n",
       "    </tr>\n",
       "    <tr>\n",
       "      <th>3</th>\n",
       "      <td>patent-document/@country</td>\n",
       "      <td>pat:PatentPublication/@com:receivingOffice</td>\n",
       "    </tr>\n",
       "    <tr>\n",
       "      <th>4</th>\n",
       "      <td>patent-document/@status</td>\n",
       "      <td>pat:PatentPublication/@pat:applicationBodyStatus</td>\n",
       "    </tr>\n",
       "    <tr>\n",
       "      <th>...</th>\n",
       "      <td>...</td>\n",
       "      <td>...</td>\n",
       "    </tr>\n",
       "    <tr>\n",
       "      <th>892</th>\n",
       "      <td>state</td>\n",
       "      <td>com:GeographicRegionName</td>\n",
       "    </tr>\n",
       "    <tr>\n",
       "      <th>893</th>\n",
       "      <td>pobox</td>\n",
       "      <td>com:AddressLineText</td>\n",
       "    </tr>\n",
       "    <tr>\n",
       "      <th>894</th>\n",
       "      <td>room</td>\n",
       "      <td>com:AddressLineText</td>\n",
       "    </tr>\n",
       "    <tr>\n",
       "      <th>895</th>\n",
       "      <td>county</td>\n",
       "      <td>com:GeographicRegionName</td>\n",
       "    </tr>\n",
       "    <tr>\n",
       "      <th>896</th>\n",
       "      <td>address-2</td>\n",
       "      <td>com:AddressLineText</td>\n",
       "    </tr>\n",
       "  </tbody>\n",
       "</table>\n",
       "<p>897 rows × 2 columns</p>\n",
       "</div>"
      ],
      "text/plain": [
       "                             xpath_from  \\\n",
       "0                 patent-document/@lang   \n",
       "1                 patent-document/@file   \n",
       "2    patent-document/@file-reference-id   \n",
       "3              patent-document/@country   \n",
       "4               patent-document/@status   \n",
       "..                                  ...   \n",
       "892                               state   \n",
       "893                               pobox   \n",
       "894                                room   \n",
       "895                              county   \n",
       "896                           address-2   \n",
       "\n",
       "                                              xpath_to  \n",
       "0              pat:PatentPublication/@com:languageCode  \n",
       "1          pat:PatentPublication/@com:documentFileName  \n",
       "2    pat:PatentPublication/@com:fileReferenceIdenti...  \n",
       "3           pat:PatentPublication/@com:receivingOffice  \n",
       "4     pat:PatentPublication/@pat:applicationBodyStatus  \n",
       "..                                                 ...  \n",
       "892                           com:GeographicRegionName  \n",
       "893                                com:AddressLineText  \n",
       "894                                com:AddressLineText  \n",
       "895                           com:GeographicRegionName  \n",
       "896                                com:AddressLineText  \n",
       "\n",
       "[897 rows x 2 columns]"
      ]
     },
     "execution_count": 11,
     "metadata": {},
     "output_type": "execute_result"
    }
   ],
   "source": [
    "app_df"
   ]
  },
  {
   "cell_type": "code",
   "execution_count": 12,
   "id": "f1be2737",
   "metadata": {},
   "outputs": [],
   "source": [
    "bb_df = pd.read_csv(bibli_tsv, sep=\"\\t\", header=None, names=['xpath_from', \"xpath_to\"])"
   ]
  },
  {
   "cell_type": "code",
   "execution_count": 13,
   "id": "ab70b07f",
   "metadata": {},
   "outputs": [
    {
     "data": {
      "text/html": [
       "<div>\n",
       "<style scoped>\n",
       "    .dataframe tbody tr th:only-of-type {\n",
       "        vertical-align: middle;\n",
       "    }\n",
       "\n",
       "    .dataframe tbody tr th {\n",
       "        vertical-align: top;\n",
       "    }\n",
       "\n",
       "    .dataframe thead th {\n",
       "        text-align: right;\n",
       "    }\n",
       "</style>\n",
       "<table border=\"1\" class=\"dataframe\">\n",
       "  <thead>\n",
       "    <tr style=\"text-align: right;\">\n",
       "      <th></th>\n",
       "      <th>xpath_from</th>\n",
       "      <th>xpath_to</th>\n",
       "    </tr>\n",
       "  </thead>\n",
       "  <tbody>\n",
       "    <tr>\n",
       "      <th>0</th>\n",
       "      <td>bibliographic-data/@id</td>\n",
       "      <td>pat:BibliographicData/@com:id</td>\n",
       "    </tr>\n",
       "    <tr>\n",
       "      <th>1</th>\n",
       "      <td>bibliographic-data/@country</td>\n",
       "      <td>pat:BibliographicData/@com:officeCode</td>\n",
       "    </tr>\n",
       "    <tr>\n",
       "      <th>2</th>\n",
       "      <td>bibliographic-data/plain-language-designation</td>\n",
       "      <td>pat:BibliographicData/pat:PlainLanguageDesigna...</td>\n",
       "    </tr>\n",
       "    <tr>\n",
       "      <th>3</th>\n",
       "      <td>bibliographic-data/plain-language-designation/...</td>\n",
       "      <td>pat:BibliographicData/pat:PlainLanguageDesigna...</td>\n",
       "    </tr>\n",
       "    <tr>\n",
       "      <th>4</th>\n",
       "      <td>bibliographic-data/publication-reference</td>\n",
       "      <td>pat:BibliographicData/pat:PatentPublicationIde...</td>\n",
       "    </tr>\n",
       "    <tr>\n",
       "      <th>...</th>\n",
       "      <td>...</td>\n",
       "      <td>...</td>\n",
       "    </tr>\n",
       "    <tr>\n",
       "      <th>530</th>\n",
       "      <td>address-floor</td>\n",
       "      <td>com:AddressLineText</td>\n",
       "    </tr>\n",
       "    <tr>\n",
       "      <th>531</th>\n",
       "      <td>building</td>\n",
       "      <td>com:AddressLineText</td>\n",
       "    </tr>\n",
       "    <tr>\n",
       "      <th>532</th>\n",
       "      <td>street</td>\n",
       "      <td>com:AddressLineText</td>\n",
       "    </tr>\n",
       "    <tr>\n",
       "      <th>533</th>\n",
       "      <td>address-4</td>\n",
       "      <td>com:AddressLineText</td>\n",
       "    </tr>\n",
       "    <tr>\n",
       "      <th>534</th>\n",
       "      <td>address-1</td>\n",
       "      <td>com:AddressLineText</td>\n",
       "    </tr>\n",
       "  </tbody>\n",
       "</table>\n",
       "<p>535 rows × 2 columns</p>\n",
       "</div>"
      ],
      "text/plain": [
       "                                            xpath_from  \\\n",
       "0                               bibliographic-data/@id   \n",
       "1                          bibliographic-data/@country   \n",
       "2        bibliographic-data/plain-language-designation   \n",
       "3    bibliographic-data/plain-language-designation/...   \n",
       "4             bibliographic-data/publication-reference   \n",
       "..                                                 ...   \n",
       "530                                      address-floor   \n",
       "531                                           building   \n",
       "532                                             street   \n",
       "533                                          address-4   \n",
       "534                                          address-1   \n",
       "\n",
       "                                              xpath_to  \n",
       "0                        pat:BibliographicData/@com:id  \n",
       "1                pat:BibliographicData/@com:officeCode  \n",
       "2    pat:BibliographicData/pat:PlainLanguageDesigna...  \n",
       "3    pat:BibliographicData/pat:PlainLanguageDesigna...  \n",
       "4    pat:BibliographicData/pat:PatentPublicationIde...  \n",
       "..                                                 ...  \n",
       "530                                com:AddressLineText  \n",
       "531                                com:AddressLineText  \n",
       "532                                com:AddressLineText  \n",
       "533                                com:AddressLineText  \n",
       "534                                com:AddressLineText  \n",
       "\n",
       "[535 rows x 2 columns]"
      ]
     },
     "execution_count": 13,
     "metadata": {},
     "output_type": "execute_result"
    }
   ],
   "source": [
    "bb_df"
   ]
  },
  {
   "cell_type": "code",
   "execution_count": 14,
   "id": "f8a1fad5",
   "metadata": {},
   "outputs": [],
   "source": [
    "first_row = \"patent-document/bibliographic-data\\tpat:PatentPublication/pat:BibliographicData\""
   ]
  },
  {
   "cell_type": "code",
   "execution_count": 15,
   "id": "f4fc4b66",
   "metadata": {},
   "outputs": [],
   "source": [
    "from io import StringIO"
   ]
  },
  {
   "cell_type": "code",
   "execution_count": 16,
   "id": "f2028309",
   "metadata": {},
   "outputs": [],
   "source": [
    "with open(\"data/head_mapping.tsv\", 'w') as f:\n",
    "    f.write(first_row + \"\\n\")\n",
    "    "
   ]
  },
  {
   "cell_type": "code",
   "execution_count": 17,
   "id": "0f2633fc",
   "metadata": {},
   "outputs": [],
   "source": [
    "!cat data/head_mapping.tsv data/bibli_mapping.tsv data/app_body_mapping.tsv > element_mapping.tsv"
   ]
  },
  {
   "cell_type": "code",
   "execution_count": 18,
   "id": "27384743",
   "metadata": {},
   "outputs": [],
   "source": [
    "!cat data/bibli_mapping_value.tsv data/app_body_mapping_value.tsv > element_value_mapping.tsv"
   ]
  },
  {
   "cell_type": "code",
   "execution_count": 19,
   "id": "c23ad507",
   "metadata": {},
   "outputs": [
    {
     "name": "stdout",
     "output_type": "stream",
     "text": [
      "==> element_mapping.tsv <==\r\n",
      "patent-document/bibliographic-data\tpat:PatentPublication/pat:BibliographicData\r\n",
      "bibliographic-data/@id\tpat:BibliographicData/@com:id\r\n",
      "bibliographic-data/@country\tpat:BibliographicData/@com:officeCode\r\n",
      "bibliographic-data/plain-language-designation\tpat:BibliographicData/pat:PlainLanguageDesignationText\r\n",
      "bibliographic-data/plain-language-designation/@lang\tpat:BibliographicData/pat:PlainLanguageDesignationText/@com:languageCode\r\n",
      "bibliographic-data/publication-reference\tpat:BibliographicData/pat:PatentPublicationIdentification\r\n",
      "bibliographic-data/classification-ipc\tpat:BibliographicData/pat:PatentClassificationBag/pat:IPCClassification\r\n",
      "bibliographic-data/classifications-ipcr\tpat:BibliographicData/pat:PatentClassificationBag/pat:IPCRClassificationBag\r\n",
      "bibliographic-data/classifications-ipcr/classification-ipcr\tpat:BibliographicData/pat:PatentClassificationBag/pat:IPCRClassificationBag/pat:IPCRClassification\r\n",
      "bibliographic-data/classification-national\tpat:BibliographicData/pat:PatentClassificationBag/pat:NationalClassification\r\n",
      "\r\n",
      "==> element_value_mapping.tsv <==\r\n",
      "kind\tpat:ApplicationFilingCategory\tnational\tNational\r\n",
      "kind\tpat:ApplicationFilingCategory\tregional\tRegional\r\n",
      "kind\tpat:ApplicationFilingCategory\tinternational\tPCT\r\n",
      "subset\tpat:subsetIndicator\tyes\ttrue\r\n",
      "subset\tpat:subsetIndicator\tno\tfalse\r\n",
      "rep-type\tpat:RegisteredPractitionerCategory\tagent\tAgent\r\n",
      "rep-type\tpat:RegisteredPractitionerCategory\tattorney\tAttorney\r\n",
      "rep-type\tpat:RegisteredPractitionerCategory\tcommon-representative\tCommon representative\r\n",
      "text()\tpat:citingPartyCategory\tcited by applicant\tApplicant\r\n",
      "text()\tpat:citingPartyCategory\tcited by examiner\tExaminer\r\n"
     ]
    }
   ],
   "source": [
    "!head  element_mapping.tsv element_value_mapping.tsv"
   ]
  },
  {
   "cell_type": "code",
   "execution_count": 20,
   "id": "6cace71f",
   "metadata": {},
   "outputs": [],
   "source": [
    "df = pd.read_csv(\"element_mapping.tsv\", sep=\"\\t\", header=None, names=['xpath_from', \"xpath_to\"])"
   ]
  },
  {
   "cell_type": "code",
   "execution_count": 21,
   "id": "b735ea1f",
   "metadata": {},
   "outputs": [],
   "source": [
    "df['xpath_to'] = df['xpath_to'].str.replace(\"pat:ApplicationBody\", \"pat:PatentPublication\")\n",
    "df['xpath_from'] = df['xpath_from'].str.replace(\"application-body\", \"patent-document\")"
   ]
  },
  {
   "cell_type": "code",
   "execution_count": 22,
   "id": "5cf44393",
   "metadata": {},
   "outputs": [
    {
     "data": {
      "text/html": [
       "<div>\n",
       "<style scoped>\n",
       "    .dataframe tbody tr th:only-of-type {\n",
       "        vertical-align: middle;\n",
       "    }\n",
       "\n",
       "    .dataframe tbody tr th {\n",
       "        vertical-align: top;\n",
       "    }\n",
       "\n",
       "    .dataframe thead th {\n",
       "        text-align: right;\n",
       "    }\n",
       "</style>\n",
       "<table border=\"1\" class=\"dataframe\">\n",
       "  <thead>\n",
       "    <tr style=\"text-align: right;\">\n",
       "      <th></th>\n",
       "      <th>xpath_from</th>\n",
       "      <th>xpath_to</th>\n",
       "    </tr>\n",
       "  </thead>\n",
       "  <tbody>\n",
       "    <tr>\n",
       "      <th>0</th>\n",
       "      <td>patent-document/bibliographic-data</td>\n",
       "      <td>pat:PatentPublication/pat:BibliographicData</td>\n",
       "    </tr>\n",
       "    <tr>\n",
       "      <th>1</th>\n",
       "      <td>bibliographic-data/@id</td>\n",
       "      <td>pat:BibliographicData/@com:id</td>\n",
       "    </tr>\n",
       "    <tr>\n",
       "      <th>2</th>\n",
       "      <td>bibliographic-data/@country</td>\n",
       "      <td>pat:BibliographicData/@com:officeCode</td>\n",
       "    </tr>\n",
       "    <tr>\n",
       "      <th>3</th>\n",
       "      <td>bibliographic-data/plain-language-designation</td>\n",
       "      <td>pat:BibliographicData/pat:PlainLanguageDesigna...</td>\n",
       "    </tr>\n",
       "    <tr>\n",
       "      <th>4</th>\n",
       "      <td>bibliographic-data/plain-language-designation/...</td>\n",
       "      <td>pat:BibliographicData/pat:PlainLanguageDesigna...</td>\n",
       "    </tr>\n",
       "    <tr>\n",
       "      <th>...</th>\n",
       "      <td>...</td>\n",
       "      <td>...</td>\n",
       "    </tr>\n",
       "    <tr>\n",
       "      <th>1428</th>\n",
       "      <td>state</td>\n",
       "      <td>com:GeographicRegionName</td>\n",
       "    </tr>\n",
       "    <tr>\n",
       "      <th>1429</th>\n",
       "      <td>pobox</td>\n",
       "      <td>com:AddressLineText</td>\n",
       "    </tr>\n",
       "    <tr>\n",
       "      <th>1430</th>\n",
       "      <td>room</td>\n",
       "      <td>com:AddressLineText</td>\n",
       "    </tr>\n",
       "    <tr>\n",
       "      <th>1431</th>\n",
       "      <td>county</td>\n",
       "      <td>com:GeographicRegionName</td>\n",
       "    </tr>\n",
       "    <tr>\n",
       "      <th>1432</th>\n",
       "      <td>address-2</td>\n",
       "      <td>com:AddressLineText</td>\n",
       "    </tr>\n",
       "  </tbody>\n",
       "</table>\n",
       "<p>1433 rows × 2 columns</p>\n",
       "</div>"
      ],
      "text/plain": [
       "                                             xpath_from  \\\n",
       "0                    patent-document/bibliographic-data   \n",
       "1                                bibliographic-data/@id   \n",
       "2                           bibliographic-data/@country   \n",
       "3         bibliographic-data/plain-language-designation   \n",
       "4     bibliographic-data/plain-language-designation/...   \n",
       "...                                                 ...   \n",
       "1428                                              state   \n",
       "1429                                              pobox   \n",
       "1430                                               room   \n",
       "1431                                             county   \n",
       "1432                                          address-2   \n",
       "\n",
       "                                               xpath_to  \n",
       "0           pat:PatentPublication/pat:BibliographicData  \n",
       "1                         pat:BibliographicData/@com:id  \n",
       "2                 pat:BibliographicData/@com:officeCode  \n",
       "3     pat:BibliographicData/pat:PlainLanguageDesigna...  \n",
       "4     pat:BibliographicData/pat:PlainLanguageDesigna...  \n",
       "...                                                 ...  \n",
       "1428                           com:GeographicRegionName  \n",
       "1429                                com:AddressLineText  \n",
       "1430                                com:AddressLineText  \n",
       "1431                           com:GeographicRegionName  \n",
       "1432                                com:AddressLineText  \n",
       "\n",
       "[1433 rows x 2 columns]"
      ]
     },
     "execution_count": 22,
     "metadata": {},
     "output_type": "execute_result"
    }
   ],
   "source": [
    "df\n"
   ]
  },
  {
   "cell_type": "code",
   "execution_count": 25,
   "id": "2480d0aa",
   "metadata": {},
   "outputs": [],
   "source": [
    "value_df = pd.read_csv(\"element_value_mapping.tsv\", sep=\"\\t\", header=None, \n",
    "                       names=['from_element', 'to_element', 'from_value', 'to_value'])"
   ]
  },
  {
   "cell_type": "code",
   "execution_count": 28,
   "id": "904203b2",
   "metadata": {},
   "outputs": [],
   "source": [
    "value_df.to_csv(\"data/mapping_table/element_value_mapping.csv\", index=False)\n"
   ]
  },
  {
   "cell_type": "code",
   "execution_count": 29,
   "id": "159026ee",
   "metadata": {},
   "outputs": [],
   "source": [
    "df.to_csv(\"data/mapping_table/element_mapping.csv\", index=False)"
   ]
  },
  {
   "cell_type": "code",
   "execution_count": null,
   "id": "3f430f58",
   "metadata": {},
   "outputs": [],
   "source": []
  }
 ],
 "metadata": {
  "kernelspec": {
   "display_name": "Python 3 (ipykernel)",
   "language": "python",
   "name": "python3"
  },
  "language_info": {
   "codemirror_mode": {
    "name": "ipython",
    "version": 3
   },
   "file_extension": ".py",
   "mimetype": "text/x-python",
   "name": "python",
   "nbconvert_exporter": "python",
   "pygments_lexer": "ipython3",
   "version": "3.9.12"
  }
 },
 "nbformat": 4,
 "nbformat_minor": 5
}
