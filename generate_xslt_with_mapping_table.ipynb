{
 "cells": [
  {
   "cell_type": "markdown",
   "id": "31713195",
   "metadata": {},
   "source": [
    "* prompt1:\n",
    "\n",
    "\n",
    "我有两个xml 的元素和属性映射表如下\n",
    "    xpath_from,xpath_to\n",
    "    patent-document/bibliographic-data,pat:PatentPublication/pat:BibliographicData\n",
    "    bibliographic-data/@id,pat:BibliographicData/@com:id\n",
    "    bibliographic-data/@country,pat:BibliographicData/@com:officeCode\n",
    "    bibliographic-data/plain-language-designation,pat:BibliographicData/pat:PlainLanguageDesignationText\n",
    "    bibliographic-data/plain-language-designation/@lang,pat:BibliographicData/pat:PlainLanguageDesignationText/@com:languageCode\n",
    "    bibliographic-data/publication-reference,pat:BibliographicData/pat:PatentPublicationIdentification\n",
    "    patent-document/description,pat:PatentPublication/pat:Description\n",
    "    patent-document/description/@id,pat:PatentPublication/pat:Description/@com:id\n",
    "    patent-document/description/@lang,pat:PatentPublication/pat:Description/@com:languageCode\n",
    "    patent-document/description/doc-page,pat:PatentPublication/pat:Description/pat:DocumentURI\n",
    "    patent-document/description/invention-title,pat:PatentPublication/pat:Description/pat:InventionTitle\n",
    "    patent-document/description/technical-field,pat:PatentPublication/pat:Description/pat:TechnicalField    \n",
    "\n",
    "\n",
    "我需要从中生成吧xpath_from 的xml文档元素patent-document 转化为 pat:PatentPublication的xslt文件\n",
    "还需要考虑下面的元素值的映射表\n",
    "    from_element,to_element,from_value,to_value\n",
    "    kind,pat:ApplicationFilingCategory,national,National\n",
    "    kind,pat:ApplicationFilingCategory,regional,Regional\n",
    "    kind,pat:ApplicationFilingCategory,international,PCT\n",
    "    subset,pat:subsetIndicator,yes,true\n",
    "    subset,pat:subsetIndicator,no,false\n",
    "对于上述映射表 如果元素名称为from_elment 的元素，其值如果为from_value,则映射到 对应的to_element 的， to_value\n",
    "请给我一个使用 panda,lxml的python 函数，参数为这两个映射表文件，返回xslt\n",
    "\n"
   ]
  },
  {
   "cell_type": "markdown",
   "id": "790de6ab",
   "metadata": {},
   "source": [
    "## 第一版代码\n"
   ]
  },
  {
   "cell_type": "markdown",
   "source": [],
   "metadata": {
    "collapsed": false
   }
  },
  {
   "cell_type": "code",
   "execution_count": 1,
   "id": "35fd3634",
   "metadata": {},
   "outputs": [
    {
     "ename": "SyntaxError",
     "evalue": "positional argument follows keyword argument (881769051.py, line 11)",
     "output_type": "error",
     "traceback": [
      "\u001B[0;36m  Input \u001B[0;32mIn [1]\u001B[0;36m\u001B[0m\n\u001B[0;31m    xslt = etree.Element(\"xsl:stylesheet\", version=\"1.0\", xmlns:xsl=\"http://www.w3.org/1999/XSL/Transform\")\u001B[0m\n\u001B[0m                                                               ^\u001B[0m\n\u001B[0;31mSyntaxError\u001B[0m\u001B[0;31m:\u001B[0m positional argument follows keyword argument\n"
     ]
    }
   ],
   "source": [
    "import pandas as pd\n",
    "from lxml import etree\n",
    "\n",
    "\n",
    "def generate_xslt(xpath_mapping_file, value_mapping_file):\n",
    "    # load the mapping files into pandas dataframes\n",
    "    xpath_df = pd.read_csv(xpath_mapping_file)\n",
    "    value_df = pd.read_csv(value_mapping_file)\n",
    "\n",
    "    # create the XSLT root element\n",
    "    xslt = etree.Element(\"xsl:stylesheet\", version=\"1.0\", xmlns:xsl=\"http://www.w3.org/1999/XSL/Transform\")\n",
    "    \n",
    "    # create the identity transform element and append it to the root\n",
    "    identity_transform = etree.SubElement(xslt, \"xsl:template\", match=\"@*|node()\")\n",
    "    identity_transform_copy = etree.SubElement(identity_transform, \"xsl:copy\")\n",
    "    identity_transform_copy_apply_templates = etree.SubElement(identity_transform_copy, \"xsl:apply-templates\", select=\"@*|node()\")\n",
    "    \n",
    "    # loop through the xpath mapping dataframe and create template rules for each mapping\n",
    "    for _, row in xpath_df.iterrows():\n",
    "        # extract the from and to xpaths\n",
    "        from_xpath = row[\"xpath_from\"]\n",
    "        to_xpath = row[\"xpath_to\"]\n",
    "        \n",
    "        # create the template rule element\n",
    "        template_rule = etree.SubElement(xslt, \"xsl:template\", match=from_xpath)\n",
    "        \n",
    "        # create the element or attribute for the output XML\n",
    "        if \"@\" in to_xpath:\n",
    "            attribute_name = to_xpath.split(\"@\")[1]\n",
    "            attribute = etree.SubElement(template_rule, \"xsl:attribute\", name=attribute_name)\n",
    "            attribute_value = etree.SubElement(attribute, \"xsl:value-of\", select=to_xpath)\n",
    "        else:\n",
    "            element_name = to_xpath.split(\"/\")[-1]\n",
    "            element = etree.SubElement(template_rule, element_name)\n",
    "            element_apply_templates = etree.SubElement(element, \"xsl:apply-templates\", select=\"@*|node()\")\n",
    "    \n",
    "    # loop through the value mapping dataframe and create template rules for each mapping\n",
    "    for _, row in value_df.iterrows():\n",
    "        # extract the from and to elements and values\n",
    "        from_element = row[\"from_element\"]\n",
    "        to_element = row[\"to_element\"]\n",
    "        from_value = row[\"from_value\"]\n",
    "        to_value = row[\"to_value\"]\n",
    "        \n",
    "        # create the template rule element\n",
    "        template_rule = etree.SubElement(xslt, \"xsl:template\", match=f\"{from_element}[text()='{from_value}']\")\n",
    "        \n",
    "        # create the output element and value\n",
    "        output_element = etree.SubElement(template_rule, to_element)\n",
    "        output_element.text = to_value\n",
    "    \n",
    "    # create a string representation of the XSLT\n",
    "    xslt_string = etree.tostring(xslt, pretty_print=True, encoding=\"UTF-8\")\n",
    "    \n",
    "    return xslt_string\n"
   ]
  },
  {
   "cell_type": "markdown",
   "id": "10038cba",
   "metadata": {},
   "source": [
    "* 2\n",
    "\n",
    "我有两个xml 的元素和属性映射表如下\n",
    "    xpath_from,xpath_to\n",
    "    patent-document/bibliographic-data,pat:PatentPublication/pat:BibliographicData\n",
    "    bibliographic-data/@id,pat:BibliographicData/@com:id\n",
    "    bibliographic-data/@country,pat:BibliographicData/@com:officeCode\n",
    "    bibliographic-data/plain-language-designation,pat:BibliographicData/pat:PlainLanguageDesignationText\n",
    "    bibliographic-data/plain-language-designation/@lang,pat:BibliographicData/pat:PlainLanguageDesignationText/@com:languageCode\n",
    "    bibliographic-data/publication-reference,pat:BibliographicData/pat:PatentPublicationIdentification\n",
    "    patent-document/description,pat:PatentPublication/pat:Description\n",
    "    patent-document/description/@id,pat:PatentPublication/pat:Description/@com:id\n",
    "    patent-document/description/@lang,pat:PatentPublication/pat:Description/@com:languageCode\n",
    "    patent-document/description/doc-page,pat:PatentPublication/pat:Description/pat:DocumentURI\n",
    "    patent-document/description/invention-title,pat:PatentPublication/pat:Description/pat:InventionTitle\n",
    "    patent-document/description/technical-field,pat:PatentPublication/pat:Description/pat:TechnicalField    \n",
    "\n",
    "\n",
    "我需要从中生成吧xpath_from 的xml文档元素patent-document 转化为 pat:PatentPublication的xslt文件\n",
    "还需要考虑下面的元素值的映射表\n",
    "    from_element,to_element,from_value,to_value\n",
    "    kind,pat:ApplicationFilingCategory,national,National\n",
    "    kind,pat:ApplicationFilingCategory,regional,Regional\n",
    "    kind,pat:ApplicationFilingCategory,international,PCT\n",
    "    subset,pat:subsetIndicator,yes,true\n",
    "    subset,pat:subsetIndicator,no,false\n",
    "对于上述映射表 如果元素名称为from_elment 的元素，其值如果为from_value,则映射到 对应的to_element 的， to_value\n",
    "请给我一个使用 panda,lxml的python 函数，参数为这两个映射表文件，返回xslt\n",
    "\n",
    "考虑命名空间 xmlns=\"http://www.wipo.int/standards/XMLSchema/ST96/Patent\" xmlns:tbl=\"http://www.oasis-open.org/tables/exchange/1.0\" xmlns:xsl=\"http://www.w3.org/1999/XSL/Transform\" xmlns:WIPO=\"http://www.altova.com/MapForce/UDF/WIPO\" xmlns:mathml=\"http://www.w3.org/1998/Math/MathML3\" xmlns:vmf=\"http://www.altova.com/MapForce/UDF/vmf\" xmlns:xs=\"http://www.w3.org/2001/XMLSchema\" xmlns:fn=\"http://www.w3.org/2005/xpath-functions\" xmlns:com=\"http://www.wipo.int/standards/XMLSchema/ST96/Common\" "
   ]
  }
 ],
 "metadata": {
  "kernelspec": {
   "display_name": "Python 3 (ipykernel)",
   "language": "python",
   "name": "python3"
  },
  "language_info": {
   "codemirror_mode": {
    "name": "ipython",
    "version": 3
   },
   "file_extension": ".py",
   "mimetype": "text/x-python",
   "name": "python",
   "nbconvert_exporter": "python",
   "pygments_lexer": "ipython3",
   "version": "3.9.12"
  }
 },
 "nbformat": 4,
 "nbformat_minor": 5
}
