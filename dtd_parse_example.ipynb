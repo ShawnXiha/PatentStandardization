{
 "cells": [
  {
   "cell_type": "code",
   "execution_count": 1,
   "id": "5d9b8b21-da23-4474-849d-8f707bb295ff",
   "metadata": {},
   "outputs": [],
   "source": [
    "import re\n"
   ]
  },
  {
   "cell_type": "code",
   "execution_count": 3,
   "id": "40de6d3a-7d49-4a84-8994-9ab15be8f329",
   "metadata": {},
   "outputs": [],
   "source": [
    "cn_dtd = \"data/中文专利xml标准/cn_old.dtd\"\n",
    "cn_content = open(cn_dtd).read()"
   ]
  },
  {
   "cell_type": "code",
   "execution_count": 5,
   "id": "72333e67-a442-47e6-ba80-737f036ae65a",
   "metadata": {},
   "outputs": [
    {
     "data": {
      "text/plain": [
       "'<?xml version=\"1.0\" encoding=\"UTF-8\"?>\\n<!-- edited with XMLSPY v5 U (http://www.xmlspy.com) by et8 (et8) -->\\n<!--cn-patent-document v1.0 2006-03-06\\n    http://www.sipo.gov.cn/standards/xml/cn-patent-document.dtd\\n    这是一个用于描述中国发明、实用新型专利文献数据的DTD定义。\\n    本DTD是WIPO ST36的一个应用，依据的是2005-09-22 的 ST36 的版本，使用的是2005-02-20的\\n    ICE和xx-patent-document版本。\\n-->\\n<!--cn-patent-document v1.0 2006-03-06\\n    http://www.sipo.gov.cn/standards/xml/cn-patent-document.dtd\\n    DTD FOR PUBLISHED CHINA PATENT DATA\\n    This DTD is based on WIPO ST36(2005-09-22) and  ICE(2005-02-20) .\\n-->\\n<!--\\n  ****************************************************************************\\n  * SECTION I - DECLARATION, ENT. REFs, ISO sets, etc                        *\\n  ****************************************************************************\\n-->\\n<!--\\n  ****************************************************************************\\n  * 节 I - 声明, 实体,  引用外部DTD, 字符集等                        \\t     *\\n  ****************************************'"
      ]
     },
     "execution_count": 5,
     "metadata": {},
     "output_type": "execute_result"
    }
   ],
   "source": [
    "cn_content[:1000]"
   ]
  },
  {
   "cell_type": "code",
   "execution_count": 6,
   "id": "ed1230dc-1fac-41d0-b786-b28a7814ebb8",
   "metadata": {},
   "outputs": [
    {
     "data": {
      "text/plain": [
       "'e to\\n    process files using \\'plane 1\\' characters which have Unicode numbers\\n    higher than #xFFFF. The versions of the DTD provided here incoprorate\\n    the modifications mentioned above, but the high characters are replaced\\n    by the equivalent mchar construct <mchar name=\"...\" /> this allows the\\n    DTD to be read and for MathML files to be validated using such sytems.\"\\n-->\\n<![%MATHML2_DTD; [\\n<!--\\n  ENTITY % mathml-charent.module \"IGNORE\"\\n-->\\n<!ENTITY % MATHML.prefixed \"IGNORE\">\\n<!ENTITY % MATHML.xmlns \"\">\\n<!--\\n  import MathML2 dtd\\n-->\\n<!ENTITY % mathml2 PUBLIC \"-//W3C//DTD MathML 2.0//EN\" \"mathml2.dtd\">\\n%mathml2;\\n]]>\\n<!--引用 DTD OASIS Open XML Exchange Table Model ,由OASIS维护, 从\\n       http://oasis-open.org/specs/soextblx.dtd 下载\\n-->\\n<!--\\n  DTD OASIS Open XML Exchange Table Model.\\n  Maintained by OASIS; download from:\\n    http://oasis-open.org/specs/soextblx.dtd\\n  Note that the FPI in soextblx.dtd refers to itself as \\'calstblx\\'.\\n  That convention has been followed here.\\n-->\\n<![%TABLE_DTD; [\\n\\n<!--\\n  create content for title element in table\\n-->\\n<!ENTITY % title \"<!ELEMENT title (#PCDATA | b | i | u | sup | sub | smallcaps)* > \">\\n%title;\\n<!--\\n  override OASIS Exchange <entry> model\\n-->\\n<!ENTITY % tbl.entry.mdl \"(#PCDATA | b | i | u | sup | sub | smallcaps | br | patcit | nplcit | bio-deposit | crossref | img | dl | ul | ol | chemistry | maths)* \">\\n<!--\\n  import OASIS Exchange model\\n-->\\n<!ENTITY % calstblx PUBLIC \"-//OASIS//DTD XML Exchange Table Model 19990315//EN\"\\n                           \"soextblx.dtd\">\\n<!ENTITY % yesorno  \"NMTOKEN\" >\\n<!ENTITY % tbl.table.att  \" pgwide    %yesorno;      #IMPLIED\\n                            orient    (port | land)  #IMPLIED\\n                            tabstyle  NMTOKEN        #IMPLIED\" >\\n%calstblx;\\n]]>\\n<![%MATH_PLACEHOLDER; [\\n<!--\\n  (PLACEHOLDER:w3c math dtd)\\n-->\\n<!ELEMENT math (#PCDATA)>\\n]]>\\n<![%TABLE_PLACEHOLDER; [\\n<!--\\n  (PLACEHOLDER:cals table dtd)\\n-->\\n<!ELEMENT table (#PCDATA)>\\n]]>\\n<!--通用的名字结构实体-->\\n<!--general name entity --'"
      ]
     },
     "execution_count": 6,
     "metadata": {},
     "output_type": "execute_result"
    }
   ],
   "source": [
    "cn_content[3000:5000]"
   ]
  },
  {
   "cell_type": "code",
   "execution_count": 12,
   "id": "0e9e0b73-d716-48bb-9dc8-5aeadb7e5e40",
   "metadata": {},
   "outputs": [],
   "source": [
    "element_pattern = r'<!ELEMENT\\s+([\\w-]+)\\s+\\((.*)\\)>'"
   ]
  },
  {
   "cell_type": "code",
   "execution_count": 13,
   "id": "281b164f-a6e5-471c-a559-80dd95bb1c81",
   "metadata": {},
   "outputs": [],
   "source": [
    "elements = re.findall(element_pattern, cn_content) "
   ]
  },
  {
   "cell_type": "code",
   "execution_count": 14,
   "id": "5cfd6950-1a71-4e20-9be9-c5c07a0eccf1",
   "metadata": {},
   "outputs": [
    {
     "data": {
      "text/plain": [
       "207"
      ]
     },
     "execution_count": 14,
     "metadata": {},
     "output_type": "execute_result"
    }
   ],
   "source": [
    "len(elements)"
   ]
  },
  {
   "cell_type": "code",
   "execution_count": 93,
   "id": "cb57de83-1480-41b7-a43f-3e279845db1f",
   "metadata": {},
   "outputs": [],
   "source": [
    "# attribute_pattern = r'<!ATTLIST\\s+([\\w-]+)\\s+(.+)\\n>'\n",
    "attribute_pattern = r'<!ATTLIST\\s[-\\w]+(\\s+[-\\w]+)+>'"
   ]
  },
  {
   "cell_type": "code",
   "execution_count": 94,
   "id": "5f50330e-8c73-48d0-8f64-f2b4fc0480a3",
   "metadata": {},
   "outputs": [],
   "source": [
    "attributes = re.findall(attribute_pattern, cn_content) "
   ]
  },
  {
   "cell_type": "code",
   "execution_count": 95,
   "id": "b9d76606-db49-496a-b52b-ce094ce709a8",
   "metadata": {},
   "outputs": [
    {
     "data": {
      "text/plain": [
       "0"
      ]
     },
     "execution_count": 95,
     "metadata": {},
     "output_type": "execute_result"
    }
   ],
   "source": [
    "len(attributes)"
   ]
  },
  {
   "cell_type": "code",
   "execution_count": 96,
   "id": "368c4a5a-1d58-44f9-9518-d645cfeba671",
   "metadata": {},
   "outputs": [
    {
     "data": {
      "text/plain": [
       "[]"
      ]
     },
     "execution_count": 96,
     "metadata": {},
     "output_type": "execute_result"
    }
   ],
   "source": [
    "attributes"
   ]
  },
  {
   "cell_type": "code",
   "execution_count": null,
   "id": "e2301aa4-d9b4-48ad-9369-11cab8687ead",
   "metadata": {},
   "outputs": [],
   "source": []
  }
 ],
 "metadata": {
  "kernelspec": {
   "display_name": "Python 3 (ipykernel)",
   "language": "python",
   "name": "python3"
  },
  "language_info": {
   "codemirror_mode": {
    "name": "ipython",
    "version": 3
   },
   "file_extension": ".py",
   "mimetype": "text/x-python",
   "name": "python",
   "nbconvert_exporter": "python",
   "pygments_lexer": "ipython3",
   "version": "3.9.12"
  }
 },
 "nbformat": 4,
 "nbformat_minor": 5
}
